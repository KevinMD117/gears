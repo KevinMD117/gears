{
 "cells": [
  {
   "cell_type": "code",
   "execution_count": 1,
   "id": "8b2572a0-3ed0-4df1-aae0-0cd5f5ab1048",
   "metadata": {},
   "outputs": [],
   "source": [
    "import uproot as up"
   ]
  },
  {
   "cell_type": "code",
   "execution_count": 2,
   "id": "deac5119-7e6a-4c42-8666-5349355ceeb7",
   "metadata": {},
   "outputs": [],
   "source": [
    "t = up.open(\"https://drive.google.com/uc?id=1XHtoVBUozrRWhESWhmUg3IszrxXbGlvf:t\")"
   ]
  },
  {
   "cell_type": "code",
   "execution_count": 3,
   "id": "12a83e10-2e8e-4d5c-bbc4-5dd5d8532de7",
   "metadata": {},
   "outputs": [
    {
     "name": "stdout",
     "output_type": "stream",
     "text": [
      "name                 | typename                 | interpretation                \n",
      "---------------------+--------------------------+-------------------------------\n",
      "n                    | int32_t                  | AsDtype('>i4')\n",
      "m                    | int32_t                  | AsDtype('>i4')\n",
      "trk                  | std::vector<int32_t>     | AsJagged(AsDtype('>i4'), he...\n",
      "stp                  | std::vector<int32_t>     | AsJagged(AsDtype('>i4'), he...\n",
      "vlm                  | std::vector<int32_t>     | AsJagged(AsDtype('>i4'), he...\n",
      "pro                  | std::vector<int32_t>     | AsJagged(AsDtype('>i4'), he...\n",
      "pdg                  | std::vector<int32_t>     | AsJagged(AsDtype('>i4'), he...\n",
      "pid                  | std::vector<int32_t>     | AsJagged(AsDtype('>i4'), he...\n",
      "xx                   | std::vector<double>      | AsJagged(AsDtype('>f8'), he...\n",
      "yy                   | std::vector<double>      | AsJagged(AsDtype('>f8'), he...\n",
      "zz                   | std::vector<double>      | AsJagged(AsDtype('>f8'), he...\n",
      "dt                   | std::vector<double>      | AsJagged(AsDtype('>f8'), he...\n",
      "de                   | std::vector<double>      | AsJagged(AsDtype('>f8'), he...\n",
      "dl                   | std::vector<double>      | AsJagged(AsDtype('>f8'), he...\n",
      "l                    | std::vector<double>      | AsJagged(AsDtype('>f8'), he...\n",
      "x                    | std::vector<double>      | AsJagged(AsDtype('>f8'), he...\n",
      "y                    | std::vector<double>      | AsJagged(AsDtype('>f8'), he...\n",
      "z                    | std::vector<double>      | AsJagged(AsDtype('>f8'), he...\n",
      "t                    | std::vector<double>      | AsJagged(AsDtype('>f8'), he...\n",
      "k                    | std::vector<double>      | AsJagged(AsDtype('>f8'), he...\n",
      "p                    | std::vector<double>      | AsJagged(AsDtype('>f8'), he...\n",
      "q                    | std::vector<double>      | AsJagged(AsDtype('>f8'), he...\n",
      "et                   | std::vector<double>      | AsJagged(AsDtype('>f8'), he...\n"
     ]
    }
   ],
   "source": [
    "t.show()"
   ]
  },
  {
   "cell_type": "code",
   "execution_count": 4,
   "id": "5585b15d-355a-4cbf-88ea-57f676fbac60",
   "metadata": {},
   "outputs": [],
   "source": [
    "dedx = t.arrays(\"de/dl\", \"(vlm==2) & (pdg==-13)\", library=\"pd\")"
   ]
  },
  {
   "cell_type": "code",
   "execution_count": 5,
   "id": "5bbb0996-0c61-4d9c-8bcf-146f02a902dc",
   "metadata": {},
   "outputs": [
    {
     "data": {
      "text/html": [
       "<div>\n",
       "<style scoped>\n",
       "    .dataframe tbody tr th:only-of-type {\n",
       "        vertical-align: middle;\n",
       "    }\n",
       "\n",
       "    .dataframe tbody tr th {\n",
       "        vertical-align: top;\n",
       "    }\n",
       "\n",
       "    .dataframe thead th {\n",
       "        text-align: right;\n",
       "    }\n",
       "</style>\n",
       "<table border=\"1\" class=\"dataframe\">\n",
       "  <thead>\n",
       "    <tr style=\"text-align: right;\">\n",
       "      <th></th>\n",
       "      <th></th>\n",
       "      <th>de/dl</th>\n",
       "    </tr>\n",
       "    <tr>\n",
       "      <th>entry</th>\n",
       "      <th>subentry</th>\n",
       "      <th></th>\n",
       "    </tr>\n",
       "  </thead>\n",
       "  <tbody>\n",
       "    <tr>\n",
       "      <th rowspan=\"3\" valign=\"top\">0</th>\n",
       "      <th>5</th>\n",
       "      <td>175.127143</td>\n",
       "    </tr>\n",
       "    <tr>\n",
       "      <th>6</th>\n",
       "      <td>174.793875</td>\n",
       "    </tr>\n",
       "    <tr>\n",
       "      <th>7</th>\n",
       "      <td>175.552238</td>\n",
       "    </tr>\n",
       "    <tr>\n",
       "      <th rowspan=\"2\" valign=\"top\">1</th>\n",
       "      <th>4</th>\n",
       "      <td>174.149433</td>\n",
       "    </tr>\n",
       "    <tr>\n",
       "      <th>5</th>\n",
       "      <td>170.756240</td>\n",
       "    </tr>\n",
       "    <tr>\n",
       "      <th>...</th>\n",
       "      <th>...</th>\n",
       "      <td>...</td>\n",
       "    </tr>\n",
       "    <tr>\n",
       "      <th rowspan=\"4\" valign=\"top\">998</th>\n",
       "      <th>5</th>\n",
       "      <td>184.925631</td>\n",
       "    </tr>\n",
       "    <tr>\n",
       "      <th>6</th>\n",
       "      <td>170.771829</td>\n",
       "    </tr>\n",
       "    <tr>\n",
       "      <th>7</th>\n",
       "      <td>171.821530</td>\n",
       "    </tr>\n",
       "    <tr>\n",
       "      <th>8</th>\n",
       "      <td>193.323776</td>\n",
       "    </tr>\n",
       "    <tr>\n",
       "      <th>999</th>\n",
       "      <th>3</th>\n",
       "      <td>167.444911</td>\n",
       "    </tr>\n",
       "  </tbody>\n",
       "</table>\n",
       "<p>4107 rows × 1 columns</p>\n",
       "</div>"
      ],
      "text/plain": [
       "                     de/dl\n",
       "entry subentry            \n",
       "0     5         175.127143\n",
       "      6         174.793875\n",
       "      7         175.552238\n",
       "1     4         174.149433\n",
       "      5         170.756240\n",
       "...                    ...\n",
       "998   5         184.925631\n",
       "      6         170.771829\n",
       "      7         171.821530\n",
       "      8         193.323776\n",
       "999   3         167.444911\n",
       "\n",
       "[4107 rows x 1 columns]"
      ]
     },
     "execution_count": 5,
     "metadata": {},
     "output_type": "execute_result"
    }
   ],
   "source": [
    "dedx"
   ]
  },
  {
   "cell_type": "code",
   "execution_count": 8,
   "id": "71e4ef4d-0d90-4833-abd8-68b6e1a83968",
   "metadata": {},
   "outputs": [],
   "source": [
    "import matplotlib.pyplot as plot"
   ]
  },
  {
   "cell_type": "code",
   "execution_count": 10,
   "id": "5f12cea2-c8d3-4cc0-b894-86669cc99387",
   "metadata": {},
   "outputs": [
    {
     "data": {
      "text/plain": [
       "(array([  3.,  10.,   8.,  35.,  63., 126., 281., 525., 832., 882., 582.,\n",
       "        309., 173.,  93.,  58.,  38.,  16.,  24.,   9.,   7.,   4.,   2.,\n",
       "          4.,   1.,   2.,   3.,   1.,   4.,   0.,   2.,   1.,   1.,   0.,\n",
       "          0.,   0.,   0.,   0.,   1.,   0.,   1.,   0.,   0.,   0.,   0.,\n",
       "          0.,   2.,   0.,   0.,   0.,   0.,   0.,   2.,   0.,   0.,   0.,\n",
       "          0.,   0.,   0.,   0.,   0.,   1.,   0.,   0.,   0.,   0.,   0.,\n",
       "          0.,   0.,   0.,   0.,   0.,   0.,   0.,   0.,   0.,   0.,   0.,\n",
       "          0.,   0.,   0.,   0.,   0.,   0.,   0.,   0.,   0.,   0.,   0.,\n",
       "          0.,   0.,   0.,   0.,   0.,   0.,   0.,   0.,   0.,   0.,   0.,\n",
       "          1.]),\n",
       " array([110.0350491 , 116.81515388, 123.59525866, 130.37536344,\n",
       "        137.15546822, 143.935573  , 150.71567778, 157.49578256,\n",
       "        164.27588734, 171.05599212, 177.8360969 , 184.61620168,\n",
       "        191.39630646, 198.17641124, 204.95651602, 211.7366208 ,\n",
       "        218.51672558, 225.29683036, 232.07693514, 238.85703992,\n",
       "        245.6371447 , 252.41724948, 259.19735426, 265.97745903,\n",
       "        272.75756381, 279.53766859, 286.31777337, 293.09787815,\n",
       "        299.87798293, 306.65808771, 313.43819249, 320.21829727,\n",
       "        326.99840205, 333.77850683, 340.55861161, 347.33871639,\n",
       "        354.11882117, 360.89892595, 367.67903073, 374.45913551,\n",
       "        381.23924029, 388.01934507, 394.79944985, 401.57955463,\n",
       "        408.35965941, 415.13976419, 421.91986897, 428.69997375,\n",
       "        435.48007853, 442.26018331, 449.04028809, 455.82039287,\n",
       "        462.60049765, 469.38060243, 476.16070721, 482.94081199,\n",
       "        489.72091677, 496.50102154, 503.28112632, 510.0612311 ,\n",
       "        516.84133588, 523.62144066, 530.40154544, 537.18165022,\n",
       "        543.961755  , 550.74185978, 557.52196456, 564.30206934,\n",
       "        571.08217412, 577.8622789 , 584.64238368, 591.42248846,\n",
       "        598.20259324, 604.98269802, 611.7628028 , 618.54290758,\n",
       "        625.32301236, 632.10311714, 638.88322192, 645.6633267 ,\n",
       "        652.44343148, 659.22353626, 666.00364104, 672.78374582,\n",
       "        679.5638506 , 686.34395538, 693.12406016, 699.90416494,\n",
       "        706.68426972, 713.4643745 , 720.24447928, 727.02458405,\n",
       "        733.80468883, 740.58479361, 747.36489839, 754.14500317,\n",
       "        760.92510795, 767.70521273, 774.48531751, 781.26542229,\n",
       "        788.04552707]),\n",
       " <BarContainer object of 100 artists>)"
      ]
     },
     "execution_count": 10,
     "metadata": {},
     "output_type": "execute_result"
    },
    {
     "data": {
      "image/png": "[encoded data removed]",
      "text/plain": [
       "<Figure size 432x288 with 1 Axes>"
      ]
     },
     "metadata": {
      "needs_background": "light"
     },
     "output_type": "display_data"
    }
   ],
   "source": [
    "plot.hist(dedx, bins=100)"
   ]
  },
  {
   "cell_type": "code",
   "execution_count": null,
   "id": "ad8c5385-22c5-4ec1-8c37-6fb4d1d0b965",
   "metadata": {},
   "outputs": [],
   "source": []
  }
 ],
 "metadata": {
  "kernelspec": {
   "display_name": "Python 3 (ipykernel)",
   "language": "python",
   "name": "python3"
  },
  "language_info": {
   "codemirror_mode": {
    "name": "ipython",
    "version": 3
   },
   "file_extension": ".py",
   "mimetype": "text/x-python",
   "name": "python",
   "nbconvert_exporter": "python",
   "pygments_lexer": "ipython3",
   "version": "3.9.13"
  }
 },
 "nbformat": 4,
 "nbformat_minor": 5
}

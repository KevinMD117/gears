{
 "cells": [
  {
   "cell_type": "markdown",
   "id": "aa8d2ccc-8058-42a2-acac-5562ce687052",
   "metadata": {
    "tags": []
   },
   "source": [
    "Uncomment the following line of code by deleting the hash sign \"#\" at the beginning of the line if you run this notebook in Google Colab. Run it to install [Uproot](https://pypi.org/project/uproot/), a Python package that helps import data from a CERN [ROOT](https://root.cern.ch/) file. You don't have to do it if you run the notebook in [Binder](https://mybinder.org)."
   ]
  },
  {
   "cell_type": "code",
   "execution_count": 1,
   "id": "8056ba42-67c7-4885-ab79-92a33aaee4ad",
   "metadata": {},
   "outputs": [],
   "source": [
    "#!pip install uproot"
   ]
  },
  {
   "cell_type": "code",
   "execution_count": 2,
   "id": "e67c91ee-73b2-4a2a-bb5b-2317effd54f3",
   "metadata": {},
   "outputs": [],
   "source": [
    "# load uproot package\n",
    "import uproot as up"
   ]
  },
  {
   "cell_type": "code",
   "execution_count": 3,
   "id": "deac5119-7e6a-4c42-8666-5349355ceeb7",
   "metadata": {},
   "outputs": [],
   "source": [
    "# load data table, or tree, as it is called by physicists, from a ROOT file shared through Google Drive\n",
    "t = up.open(\"https://drive.google.com/uc?id=1cnNmpTQE_vNGnnvs69aLsdNQHyFfeypM:t\")"
   ]
  },
  {
   "cell_type": "code",
   "execution_count": 4,
   "id": "12a83e10-2e8e-4d5c-bbc4-5dd5d8532de7",
   "metadata": {
    "collapsed": true,
    "jupyter": {
     "outputs_hidden": true
    },
    "tags": []
   },
   "outputs": [
    {
     "name": "stdout",
     "output_type": "stream",
     "text": [
      "name                 | typename                 | interpretation                \n",
      "---------------------+--------------------------+-------------------------------\n",
      "n                    | int32_t                  | AsDtype('>i4')\n",
      "m                    | int32_t                  | AsDtype('>i4')\n",
      "trk                  | std::vector<int32_t>     | AsJagged(AsDtype('>i4'), he...\n",
      "stp                  | std::vector<int32_t>     | AsJagged(AsDtype('>i4'), he...\n",
      "vlm                  | std::vector<int32_t>     | AsJagged(AsDtype('>i4'), he...\n",
      "pro                  | std::vector<int32_t>     | AsJagged(AsDtype('>i4'), he...\n",
      "pdg                  | std::vector<int32_t>     | AsJagged(AsDtype('>i4'), he...\n",
      "pid                  | std::vector<int32_t>     | AsJagged(AsDtype('>i4'), he...\n",
      "xx                   | std::vector<double>      | AsJagged(AsDtype('>f8'), he...\n",
      "yy                   | std::vector<double>      | AsJagged(AsDtype('>f8'), he...\n",
      "zz                   | std::vector<double>      | AsJagged(AsDtype('>f8'), he...\n",
      "dt                   | std::vector<double>      | AsJagged(AsDtype('>f8'), he...\n",
      "de                   | std::vector<double>      | AsJagged(AsDtype('>f8'), he...\n",
      "dl                   | std::vector<double>      | AsJagged(AsDtype('>f8'), he...\n",
      "l                    | std::vector<double>      | AsJagged(AsDtype('>f8'), he...\n",
      "x                    | std::vector<double>      | AsJagged(AsDtype('>f8'), he...\n",
      "y                    | std::vector<double>      | AsJagged(AsDtype('>f8'), he...\n",
      "z                    | std::vector<double>      | AsJagged(AsDtype('>f8'), he...\n",
      "t                    | std::vector<double>      | AsJagged(AsDtype('>f8'), he...\n",
      "k                    | std::vector<double>      | AsJagged(AsDtype('>f8'), he...\n",
      "p                    | std::vector<double>      | AsJagged(AsDtype('>f8'), he...\n",
      "q                    | std::vector<double>      | AsJagged(AsDtype('>f8'), he...\n",
      "et                   | std::vector<double>      | AsJagged(AsDtype('>f8'), he...\n"
     ]
    }
   ],
   "source": [
    "# show the contents of the data table\n",
    "t.show()"
   ]
  },
  {
   "cell_type": "code",
   "execution_count": 5,
   "id": "ada6d941-d14c-4e1f-85fe-f0a04f2b7bfe",
   "metadata": {
    "tags": []
   },
   "outputs": [],
   "source": [
    "# get hits' volume id, vlm\n",
    "vlm = t.arrays(\"vlm\", library=\"pd\")"
   ]
  },
  {
   "cell_type": "code",
   "execution_count": 6,
   "id": "b2e1444c-259f-47fe-833e-4bb00832cee2",
   "metadata": {
    "collapsed": true,
    "jupyter": {
     "outputs_hidden": true
    },
    "tags": []
   },
   "outputs": [
    {
     "data": {
      "text/html": [
       "<div>\n",
       "<style scoped>\n",
       "    .dataframe tbody tr th:only-of-type {\n",
       "        vertical-align: middle;\n",
       "    }\n",
       "\n",
       "    .dataframe tbody tr th {\n",
       "        vertical-align: top;\n",
       "    }\n",
       "\n",
       "    .dataframe thead th {\n",
       "        text-align: right;\n",
       "    }\n",
       "</style>\n",
       "<table border=\"1\" class=\"dataframe\">\n",
       "  <thead>\n",
       "    <tr style=\"text-align: right;\">\n",
       "      <th></th>\n",
       "      <th></th>\n",
       "      <th>vlm</th>\n",
       "    </tr>\n",
       "    <tr>\n",
       "      <th>entry</th>\n",
       "      <th>subentry</th>\n",
       "      <th></th>\n",
       "    </tr>\n",
       "  </thead>\n",
       "  <tbody>\n",
       "    <tr>\n",
       "      <th rowspan=\"5\" valign=\"top\">0</th>\n",
       "      <th>0</th>\n",
       "      <td>11</td>\n",
       "    </tr>\n",
       "    <tr>\n",
       "      <th>1</th>\n",
       "      <td>11</td>\n",
       "    </tr>\n",
       "    <tr>\n",
       "      <th>2</th>\n",
       "      <td>11</td>\n",
       "    </tr>\n",
       "    <tr>\n",
       "      <th>3</th>\n",
       "      <td>11</td>\n",
       "    </tr>\n",
       "    <tr>\n",
       "      <th>4</th>\n",
       "      <td>11</td>\n",
       "    </tr>\n",
       "    <tr>\n",
       "      <th>...</th>\n",
       "      <th>...</th>\n",
       "      <td>...</td>\n",
       "    </tr>\n",
       "    <tr>\n",
       "      <th rowspan=\"5\" valign=\"top\">999</th>\n",
       "      <th>63</th>\n",
       "      <td>11</td>\n",
       "    </tr>\n",
       "    <tr>\n",
       "      <th>64</th>\n",
       "      <td>11</td>\n",
       "    </tr>\n",
       "    <tr>\n",
       "      <th>65</th>\n",
       "      <td>11</td>\n",
       "    </tr>\n",
       "    <tr>\n",
       "      <th>66</th>\n",
       "      <td>11</td>\n",
       "    </tr>\n",
       "    <tr>\n",
       "      <th>67</th>\n",
       "      <td>11</td>\n",
       "    </tr>\n",
       "  </tbody>\n",
       "</table>\n",
       "<p>76590 rows × 1 columns</p>\n",
       "</div>"
      ],
      "text/plain": [
       "                vlm\n",
       "entry subentry     \n",
       "0     0          11\n",
       "      1          11\n",
       "      2          11\n",
       "      3          11\n",
       "      4          11\n",
       "...             ...\n",
       "999   63         11\n",
       "      64         11\n",
       "      65         11\n",
       "      66         11\n",
       "      67         11\n",
       "\n",
       "[76590 rows x 1 columns]"
      ]
     },
     "execution_count": 6,
     "metadata": {},
     "output_type": "execute_result"
    }
   ],
   "source": [
    "vlm"
   ]
  },
  {
   "cell_type": "code",
   "execution_count": 7,
   "id": "f3e75767-54ec-47d3-9743-cb06b799c3ec",
   "metadata": {},
   "outputs": [],
   "source": [
    "import matplotlib.pyplot as plot"
   ]
  },
  {
   "cell_type": "code",
   "execution_count": 10,
   "id": "0a46f94c-0622-412e-bdbb-561d9ab636bb",
   "metadata": {
    "collapsed": true,
    "jupyter": {
     "outputs_hidden": true
    },
    "tags": []
   },
   "outputs": [
    {
     "data": {
      "text/plain": [
       "(array([ 3679.,  4117.,  4407.,  4663.,  4465.,  4714.,  4694.,  4543.,\n",
       "         4883., 36425.]),\n",
       " array([ 1.,  2.,  3.,  4.,  5.,  6.,  7.,  8.,  9., 10., 11.]),\n",
       " <BarContainer object of 10 artists>)"
      ]
     },
     "execution_count": 10,
     "metadata": {},
     "output_type": "execute_result"
    },
    {
     "data": {
      "image/png": "[encoded data removed]",
      "text/plain": [
       "<Figure size 432x288 with 1 Axes>"
      ]
     },
     "metadata": {
      "needs_background": "light"
     },
     "output_type": "display_data"
    }
   ],
   "source": [
    "plot.hist(vlm)"
   ]
  },
  {
   "cell_type": "markdown",
   "id": "4b257952-cbea-476d-8682-1cdab21b3ac0",
   "metadata": {},
   "source": [
    "[PGD encoding](https://pdg.lbl.gov/2007/reviews/montecarlorpp.pdf) is a unique id assigned to each particle"
   ]
  },
  {
   "cell_type": "code",
   "execution_count": 11,
   "id": "b448a5b0-7f25-4003-aabb-9234907effad",
   "metadata": {},
   "outputs": [],
   "source": [
    "# get particles' pgd encoding\n",
    "pdg = t.arrays(\"pdg\", library=\"pd\")"
   ]
  },
  {
   "cell_type": "code",
   "execution_count": 12,
   "id": "220c9bf5-a81a-4cbf-9e19-7e78697ff42f",
   "metadata": {},
   "outputs": [
    {
     "data": {
      "text/html": [
       "<div>\n",
       "<style scoped>\n",
       "    .dataframe tbody tr th:only-of-type {\n",
       "        vertical-align: middle;\n",
       "    }\n",
       "\n",
       "    .dataframe tbody tr th {\n",
       "        vertical-align: top;\n",
       "    }\n",
       "\n",
       "    .dataframe thead th {\n",
       "        text-align: right;\n",
       "    }\n",
       "</style>\n",
       "<table border=\"1\" class=\"dataframe\">\n",
       "  <thead>\n",
       "    <tr style=\"text-align: right;\">\n",
       "      <th></th>\n",
       "      <th></th>\n",
       "      <th>pdg</th>\n",
       "    </tr>\n",
       "    <tr>\n",
       "      <th>entry</th>\n",
       "      <th>subentry</th>\n",
       "      <th></th>\n",
       "    </tr>\n",
       "  </thead>\n",
       "  <tbody>\n",
       "    <tr>\n",
       "      <th rowspan=\"5\" valign=\"top\">0</th>\n",
       "      <th>0</th>\n",
       "      <td>-13</td>\n",
       "    </tr>\n",
       "    <tr>\n",
       "      <th>1</th>\n",
       "      <td>-13</td>\n",
       "    </tr>\n",
       "    <tr>\n",
       "      <th>2</th>\n",
       "      <td>-13</td>\n",
       "    </tr>\n",
       "    <tr>\n",
       "      <th>3</th>\n",
       "      <td>-13</td>\n",
       "    </tr>\n",
       "    <tr>\n",
       "      <th>4</th>\n",
       "      <td>-13</td>\n",
       "    </tr>\n",
       "    <tr>\n",
       "      <th>...</th>\n",
       "      <th>...</th>\n",
       "      <td>...</td>\n",
       "    </tr>\n",
       "    <tr>\n",
       "      <th rowspan=\"5\" valign=\"top\">999</th>\n",
       "      <th>63</th>\n",
       "      <td>11</td>\n",
       "    </tr>\n",
       "    <tr>\n",
       "      <th>64</th>\n",
       "      <td>11</td>\n",
       "    </tr>\n",
       "    <tr>\n",
       "      <th>65</th>\n",
       "      <td>11</td>\n",
       "    </tr>\n",
       "    <tr>\n",
       "      <th>66</th>\n",
       "      <td>11</td>\n",
       "    </tr>\n",
       "    <tr>\n",
       "      <th>67</th>\n",
       "      <td>11</td>\n",
       "    </tr>\n",
       "  </tbody>\n",
       "</table>\n",
       "<p>76590 rows × 1 columns</p>\n",
       "</div>"
      ],
      "text/plain": [
       "                pdg\n",
       "entry subentry     \n",
       "0     0         -13\n",
       "      1         -13\n",
       "      2         -13\n",
       "      3         -13\n",
       "      4         -13\n",
       "...             ...\n",
       "999   63         11\n",
       "      64         11\n",
       "      65         11\n",
       "      66         11\n",
       "      67         11\n",
       "\n",
       "[76590 rows x 1 columns]"
      ]
     },
     "execution_count": 12,
     "metadata": {},
     "output_type": "execute_result"
    }
   ],
   "source": [
    "pdg"
   ]
  },
  {
   "cell_type": "code",
   "execution_count": 21,
   "id": "bf9d5e5e-81a3-4965-bd9f-43f3e5fafb78",
   "metadata": {},
   "outputs": [
    {
     "name": "stderr",
     "output_type": "stream",
     "text": [
      "/var/folders/p9/c60msxtx4gzbpqykcbj3nzg00000gn/T/ipykernel_47633/1760862998.py:1: MatplotlibDeprecationWarning: The 'nonposy' parameter of __init__() has been renamed 'nonpositive' since Matplotlib 3.3; support for the old name will be dropped two minor releases later.\n",
      "  plot.yscale('log', nonposy='clip')\n"
     ]
    },
    {
     "data": {
      "text/plain": [
       "(array([3.1012e+04, 0.0000e+00, 2.4000e+01, 0.0000e+00, 0.0000e+00,\n",
       "        0.0000e+00, 0.0000e+00, 0.0000e+00, 0.0000e+00, 0.0000e+00,\n",
       "        0.0000e+00, 0.0000e+00, 0.0000e+00, 0.0000e+00, 0.0000e+00,\n",
       "        0.0000e+00, 0.0000e+00, 0.0000e+00, 0.0000e+00, 0.0000e+00,\n",
       "        0.0000e+00, 0.0000e+00, 0.0000e+00, 0.0000e+00, 0.0000e+00,\n",
       "        0.0000e+00, 0.0000e+00, 4.1762e+04, 0.0000e+00, 0.0000e+00,\n",
       "        0.0000e+00, 0.0000e+00, 0.0000e+00, 0.0000e+00, 0.0000e+00,\n",
       "        0.0000e+00, 0.0000e+00, 0.0000e+00, 0.0000e+00, 3.7920e+03]),\n",
       " array([-13.   , -12.125, -11.25 , -10.375,  -9.5  ,  -8.625,  -7.75 ,\n",
       "         -6.875,  -6.   ,  -5.125,  -4.25 ,  -3.375,  -2.5  ,  -1.625,\n",
       "         -0.75 ,   0.125,   1.   ,   1.875,   2.75 ,   3.625,   4.5  ,\n",
       "          5.375,   6.25 ,   7.125,   8.   ,   8.875,   9.75 ,  10.625,\n",
       "         11.5  ,  12.375,  13.25 ,  14.125,  15.   ,  15.875,  16.75 ,\n",
       "         17.625,  18.5  ,  19.375,  20.25 ,  21.125,  22.   ]),\n",
       " <BarContainer object of 40 artists>)"
      ]
     },
     "execution_count": 21,
     "metadata": {},
     "output_type": "execute_result"
    },
    {
     "data": {
      "image/png": "[encoded data removed]",
      "text/plain": [
       "<Figure size 432x288 with 1 Axes>"
      ]
     },
     "metadata": {
      "needs_background": "light"
     },
     "output_type": "display_data"
    }
   ],
   "source": [
    "plot.yscale('log', nonposy='clip')\n",
    "plot.hist(pdg,bins=40)"
   ]
  },
  {
   "cell_type": "code",
   "execution_count": 22,
   "id": "5585b15d-355a-4cbf-88ea-57f676fbac60",
   "metadata": {},
   "outputs": [],
   "source": [
    "dedx = t.arrays(\"de/dl\", \"(vlm==11) & (pdg==-13)\", library=\"pd\")"
   ]
  },
  {
   "cell_type": "code",
   "execution_count": 23,
   "id": "5bbb0996-0c61-4d9c-8bcf-146f02a902dc",
   "metadata": {},
   "outputs": [
    {
     "data": {
      "text/html": [
       "<div>\n",
       "<style scoped>\n",
       "    .dataframe tbody tr th:only-of-type {\n",
       "        vertical-align: middle;\n",
       "    }\n",
       "\n",
       "    .dataframe tbody tr th {\n",
       "        vertical-align: top;\n",
       "    }\n",
       "\n",
       "    .dataframe thead th {\n",
       "        text-align: right;\n",
       "    }\n",
       "</style>\n",
       "<table border=\"1\" class=\"dataframe\">\n",
       "  <thead>\n",
       "    <tr style=\"text-align: right;\">\n",
       "      <th></th>\n",
       "      <th></th>\n",
       "      <th>de/dl</th>\n",
       "    </tr>\n",
       "    <tr>\n",
       "      <th>entry</th>\n",
       "      <th>subentry</th>\n",
       "      <th></th>\n",
       "    </tr>\n",
       "  </thead>\n",
       "  <tbody>\n",
       "    <tr>\n",
       "      <th rowspan=\"5\" valign=\"top\">0</th>\n",
       "      <th>0</th>\n",
       "      <td>NaN</td>\n",
       "    </tr>\n",
       "    <tr>\n",
       "      <th>1</th>\n",
       "      <td>0.179125</td>\n",
       "    </tr>\n",
       "    <tr>\n",
       "      <th>2</th>\n",
       "      <td>0.255781</td>\n",
       "    </tr>\n",
       "    <tr>\n",
       "      <th>3</th>\n",
       "      <td>0.211445</td>\n",
       "    </tr>\n",
       "    <tr>\n",
       "      <th>4</th>\n",
       "      <td>0.160292</td>\n",
       "    </tr>\n",
       "    <tr>\n",
       "      <th>...</th>\n",
       "      <th>...</th>\n",
       "      <td>...</td>\n",
       "    </tr>\n",
       "    <tr>\n",
       "      <th rowspan=\"5\" valign=\"top\">999</th>\n",
       "      <th>22</th>\n",
       "      <td>0.063538</td>\n",
       "    </tr>\n",
       "    <tr>\n",
       "      <th>25</th>\n",
       "      <td>0.210795</td>\n",
       "    </tr>\n",
       "    <tr>\n",
       "      <th>28</th>\n",
       "      <td>0.127748</td>\n",
       "    </tr>\n",
       "    <tr>\n",
       "      <th>29</th>\n",
       "      <td>0.173052</td>\n",
       "    </tr>\n",
       "    <tr>\n",
       "      <th>30</th>\n",
       "      <td>0.120888</td>\n",
       "    </tr>\n",
       "  </tbody>\n",
       "</table>\n",
       "<p>16076 rows × 1 columns</p>\n",
       "</div>"
      ],
      "text/plain": [
       "                   de/dl\n",
       "entry subentry          \n",
       "0     0              NaN\n",
       "      1         0.179125\n",
       "      2         0.255781\n",
       "      3         0.211445\n",
       "      4         0.160292\n",
       "...                  ...\n",
       "999   22        0.063538\n",
       "      25        0.210795\n",
       "      28        0.127748\n",
       "      29        0.173052\n",
       "      30        0.120888\n",
       "\n",
       "[16076 rows x 1 columns]"
      ]
     },
     "execution_count": 23,
     "metadata": {},
     "output_type": "execute_result"
    }
   ],
   "source": [
    "dedx"
   ]
  },
  {
   "cell_type": "code",
   "execution_count": 24,
   "id": "5f12cea2-c8d3-4cc0-b894-86669cc99387",
   "metadata": {},
   "outputs": [
    {
     "data": {
      "text/plain": [
       "(array([2.680e+02, 4.580e+02, 8.620e+02, 1.282e+03, 1.885e+03, 2.476e+03,\n",
       "        2.826e+03, 1.905e+03, 1.011e+03, 6.010e+02, 4.020e+02, 2.550e+02,\n",
       "        2.070e+02, 1.390e+02, 1.180e+02, 8.900e+01, 6.400e+01, 5.300e+01,\n",
       "        5.200e+01, 2.900e+01, 2.800e+01, 1.100e+01, 8.000e+00, 1.000e+01,\n",
       "        3.000e+00, 7.000e+00, 3.000e+00, 4.000e+00, 2.000e+00, 3.000e+00,\n",
       "        1.000e+00, 3.000e+00, 1.000e+00, 1.000e+00, 0.000e+00, 1.000e+00,\n",
       "        0.000e+00, 3.000e+00, 0.000e+00, 0.000e+00, 0.000e+00, 1.000e+00,\n",
       "        1.000e+00, 0.000e+00, 0.000e+00, 0.000e+00, 0.000e+00, 0.000e+00,\n",
       "        0.000e+00, 0.000e+00, 0.000e+00, 0.000e+00, 0.000e+00, 0.000e+00,\n",
       "        0.000e+00, 0.000e+00, 0.000e+00, 0.000e+00, 0.000e+00, 0.000e+00,\n",
       "        0.000e+00, 0.000e+00, 0.000e+00, 1.000e+00, 0.000e+00, 0.000e+00,\n",
       "        0.000e+00, 0.000e+00, 0.000e+00, 0.000e+00, 0.000e+00, 0.000e+00,\n",
       "        0.000e+00, 0.000e+00, 0.000e+00, 0.000e+00, 0.000e+00, 0.000e+00,\n",
       "        0.000e+00, 0.000e+00, 0.000e+00, 1.000e+00, 0.000e+00, 0.000e+00,\n",
       "        0.000e+00, 0.000e+00, 0.000e+00, 0.000e+00, 0.000e+00, 0.000e+00,\n",
       "        0.000e+00, 0.000e+00, 0.000e+00, 0.000e+00, 0.000e+00, 0.000e+00,\n",
       "        0.000e+00, 0.000e+00, 0.000e+00, 1.000e+00]),\n",
       " array([0.        , 0.02722465, 0.05444929, 0.08167394, 0.10889858,\n",
       "        0.13612323, 0.16334787, 0.19057252, 0.21779717, 0.24502181,\n",
       "        0.27224646, 0.2994711 , 0.32669575, 0.35392039, 0.38114504,\n",
       "        0.40836969, 0.43559433, 0.46281898, 0.49004362, 0.51726827,\n",
       "        0.54449291, 0.57171756, 0.59894221, 0.62616685, 0.6533915 ,\n",
       "        0.68061614, 0.70784079, 0.73506543, 0.76229008, 0.78951473,\n",
       "        0.81673937, 0.84396402, 0.87118866, 0.89841331, 0.92563796,\n",
       "        0.9528626 , 0.98008725, 1.00731189, 1.03453654, 1.06176118,\n",
       "        1.08898583, 1.11621048, 1.14343512, 1.17065977, 1.19788441,\n",
       "        1.22510906, 1.2523337 , 1.27955835, 1.306783  , 1.33400764,\n",
       "        1.36123229, 1.38845693, 1.41568158, 1.44290622, 1.47013087,\n",
       "        1.49735552, 1.52458016, 1.55180481, 1.57902945, 1.6062541 ,\n",
       "        1.63347874, 1.66070339, 1.68792804, 1.71515268, 1.74237733,\n",
       "        1.76960197, 1.79682662, 1.82405126, 1.85127591, 1.87850056,\n",
       "        1.9057252 , 1.93294985, 1.96017449, 1.98739914, 2.01462378,\n",
       "        2.04184843, 2.06907308, 2.09629772, 2.12352237, 2.15074701,\n",
       "        2.17797166, 2.2051963 , 2.23242095, 2.2596456 , 2.28687024,\n",
       "        2.31409489, 2.34131953, 2.36854418, 2.39576883, 2.42299347,\n",
       "        2.45021812, 2.47744276, 2.50466741, 2.53189205, 2.5591167 ,\n",
       "        2.58634135, 2.61356599, 2.64079064, 2.66801528, 2.69523993,\n",
       "        2.72246457]),\n",
       " <BarContainer object of 100 artists>)"
      ]
     },
     "execution_count": 24,
     "metadata": {},
     "output_type": "execute_result"
    },
    {
     "data": {
      "image/png": "[encoded data removed]",
      "text/plain": [
       "<Figure size 432x288 with 1 Axes>"
      ]
     },
     "metadata": {
      "needs_background": "light"
     },
     "output_type": "display_data"
    }
   ],
   "source": [
    "plot.hist(dedx, bins=100)"
   ]
  },
  {
   "cell_type": "code",
   "execution_count": 25,
   "id": "ad8c5385-22c5-4ec1-8c37-6fb4d1d0b965",
   "metadata": {},
   "outputs": [
    {
     "data": {
      "text/plain": [
       "(array([3.000e+00, 1.000e+00, 5.000e+00, 3.000e+00, 1.700e+01, 3.300e+01,\n",
       "        1.890e+02, 6.360e+02, 2.437e+03, 4.575e+03, 3.774e+03, 1.822e+03,\n",
       "        7.360e+02, 3.120e+02, 1.430e+02, 7.200e+01, 3.900e+01, 3.400e+01,\n",
       "        2.400e+01, 1.600e+01, 1.000e+01, 4.000e+00, 7.000e+00, 1.100e+01,\n",
       "        3.000e+00, 2.000e+00, 1.000e+00, 2.000e+00, 2.000e+00, 1.000e+00,\n",
       "        3.000e+00, 4.000e+00, 1.000e+00, 2.000e+00, 1.000e+00, 1.000e+00,\n",
       "        1.000e+00, 0.000e+00, 0.000e+00, 0.000e+00, 1.000e+00, 0.000e+00,\n",
       "        1.000e+00, 0.000e+00, 1.000e+00, 1.000e+00, 0.000e+00, 0.000e+00,\n",
       "        0.000e+00, 0.000e+00, 1.000e+00, 0.000e+00, 0.000e+00, 0.000e+00,\n",
       "        0.000e+00, 1.000e+00, 0.000e+00, 1.000e+00, 0.000e+00, 0.000e+00,\n",
       "        0.000e+00, 0.000e+00, 0.000e+00, 0.000e+00, 1.000e+00, 0.000e+00,\n",
       "        0.000e+00, 0.000e+00, 0.000e+00, 0.000e+00, 0.000e+00, 0.000e+00,\n",
       "        0.000e+00, 0.000e+00, 0.000e+00, 0.000e+00, 0.000e+00, 0.000e+00,\n",
       "        0.000e+00, 0.000e+00, 0.000e+00, 0.000e+00, 0.000e+00, 0.000e+00,\n",
       "        0.000e+00, 0.000e+00, 0.000e+00, 0.000e+00, 0.000e+00, 0.000e+00,\n",
       "        0.000e+00, 0.000e+00, 0.000e+00, 0.000e+00, 0.000e+00, 0.000e+00,\n",
       "        0.000e+00, 0.000e+00, 0.000e+00, 1.000e+00]),\n",
       " array([  46.74834516,   59.26968144,   71.79101772,   84.312354  ,\n",
       "          96.83369028,  109.35502656,  121.87636284,  134.39769913,\n",
       "         146.91903541,  159.44037169,  171.96170797,  184.48304425,\n",
       "         197.00438053,  209.52571682,  222.0470531 ,  234.56838938,\n",
       "         247.08972566,  259.61106194,  272.13239822,  284.6537345 ,\n",
       "         297.17507079,  309.69640707,  322.21774335,  334.73907963,\n",
       "         347.26041591,  359.78175219,  372.30308847,  384.82442476,\n",
       "         397.34576104,  409.86709732,  422.3884336 ,  434.90976988,\n",
       "         447.43110616,  459.95244244,  472.47377873,  484.99511501,\n",
       "         497.51645129,  510.03778757,  522.55912385,  535.08046013,\n",
       "         547.60179641,  560.1231327 ,  572.64446898,  585.16580526,\n",
       "         597.68714154,  610.20847782,  622.7298141 ,  635.25115039,\n",
       "         647.77248667,  660.29382295,  672.81515923,  685.33649551,\n",
       "         697.85783179,  710.37916807,  722.90050436,  735.42184064,\n",
       "         747.94317692,  760.4645132 ,  772.98584948,  785.50718576,\n",
       "         798.02852204,  810.54985833,  823.07119461,  835.59253089,\n",
       "         848.11386717,  860.63520345,  873.15653973,  885.67787601,\n",
       "         898.1992123 ,  910.72054858,  923.24188486,  935.76322114,\n",
       "         948.28455742,  960.8058937 ,  973.32722998,  985.84856627,\n",
       "         998.36990255, 1010.89123883, 1023.41257511, 1035.93391139,\n",
       "        1048.45524767, 1060.97658395, 1073.49792024, 1086.01925652,\n",
       "        1098.5405928 , 1111.06192908, 1123.58326536, 1136.10460164,\n",
       "        1148.62593793, 1161.14727421, 1173.66861049, 1186.18994677,\n",
       "        1198.71128305, 1211.23261933, 1223.75395561, 1236.2752919 ,\n",
       "        1248.79662818, 1261.31796446, 1273.83930074, 1286.36063702,\n",
       "        1298.8819733 ]),\n",
       " <BarContainer object of 100 artists>)"
      ]
     },
     "execution_count": 25,
     "metadata": {},
     "output_type": "execute_result"
    },
    {
     "data": {
      "image/png": "[encoded data removed]",
      "text/plain": [
       "<Figure size 432x288 with 1 Axes>"
      ]
     },
     "metadata": {
      "needs_background": "light"
     },
     "output_type": "display_data"
    }
   ],
   "source": [
    "plot.hist(t.arrays(\"de/dl\", \"(vlm>0) & (vlm<11) & (pdg==-13)\", library=\"pd\"), bins=100)"
   ]
  },
  {
   "cell_type": "code",
   "execution_count": null,
   "id": "2ee49a98-fa8a-4346-a906-799ce15cdbff",
   "metadata": {},
   "outputs": [],
   "source": []
  }
 ],
 "metadata": {
  "kernelspec": {
   "display_name": "Python 3 (ipykernel)",
   "language": "python",
   "name": "python3"
  },
  "language_info": {
   "codemirror_mode": {
    "name": "ipython",
    "version": 3
   },
   "file_extension": ".py",
   "mimetype": "text/x-python",
   "name": "python",
   "nbconvert_exporter": "python",
   "pygments_lexer": "ipython3",
   "version": "3.9.13"
  }
 },
 "nbformat": 4,
 "nbformat_minor": 5
}
